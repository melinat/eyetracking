{
 "cells": [
  {
   "cell_type": "markdown",
   "metadata": {},
   "source": [
    "# First get saccade times across the session"
   ]
  },
  {
   "cell_type": "code",
   "execution_count": 33,
   "metadata": {},
   "outputs": [
    {
     "name": "stdout",
     "output_type": "stream",
     "text": [
      "total subject count: 1\n",
      "total sessions: 0 for Uma_regth1\n",
      "logfile is /home1/melina.tsitsiklis/eyetracking/behavioral/Uma_regth1Log.txt\n",
      "32631\n",
      "orig thresh: 2.7650618131933893\n",
      "threshold velocity:5.510318977553675\n",
      "(503, 1)\n",
      "(458, 1)\n",
      "(458, 1)\n",
      "saccade count: 458\n"
     ]
    }
   ],
   "source": [
    "import random\n",
    "from scipy.spatial import distance\n",
    "import scipy.stats as sci\n",
    "from eyeutil import *\n",
    "from beh_utils import * \n",
    "import sys\n",
    "import os.path\n",
    "import pprint\n",
    "import matplotlib.pyplot as plt\n",
    "import scipy.io #MT\n",
    "\n",
    "%matplotlib inline\n",
    "\n",
    "target_sessions=[1]\n",
    "\n",
    "#freiburg laptop resolution is 1920x1080\n",
    "#WHAT IS DUNGEON RM COMP RESOLUTION?\n",
    "resX=3860\n",
    "resY=2140\n",
    "\n",
    "data_dir = \"/home1/melina.tsitsiklis/eyetracking/behavioral/\" #\"behavioral/\"\n",
    "subj_index=-1\n",
    "subjects_id = [\"Uma_regth1\"] #[\"Melina\"]\n",
    "\n",
    "# subjects_id = [\"CUBF40\"]\n",
    "print(\"total subject count: \" + str(len(subjects_id)))\n",
    "# subjects_id = [\"300518\"]\n",
    "subj_saccade_total=np.zeros([len(subjects_id),1],dtype=int)\n",
    "subj_saccade_distribution = np.zeros([40,len(subjects_id)],dtype=int)\n",
    "\n",
    "\n",
    "#cross-population tallies\n",
    "phase_saccade_count = np.zeros([12,1],dtype=int)\n",
    "pop_sacc_start_times=np.zeros([0,1],dtype=int)\n",
    "pop_sacc_end_times=np.zeros([0,1],dtype=int)\n",
    "\n",
    "for subjects in subjects_id:\n",
    "    total_sess=get_total_sess_count(subjects)\n",
    "    print(\"total sessions: \" + str(total_sess-1) + \" for \" + str(subjects))\n",
    "    subj_samples=0\n",
    "    subj_sacc_count=0\n",
    "    #update the subj_index\n",
    "    subj_index+=1\n",
    "    #reset subj_saccade_total\n",
    "    \n",
    "    for i in target_sessions:\n",
    "#     for i in range(1,2):\n",
    "        zeroes_count=0\n",
    "        velocity=np.zeros([2000000,1],dtype=float)\n",
    "        posX = np.zeros([2000000,1],dtype=float)\n",
    "        posY = np.zeros([2000000,1],dtype=float)\n",
    "        eyetracker_timestamp = np.zeros([2000000,1],dtype=int)\n",
    "        \n",
    "        startTrialTime = np.zeros([40,1],dtype=int)\n",
    "        endTrialTime = np.zeros([40,1],dtype=int)\n",
    "        \n",
    "        cortanaAvg = np.zeros([40,1],dtype=float)\n",
    "        \n",
    "        sess_id=i\n",
    "        unique_samples=0\n",
    "        prev_timestamp = 0\n",
    "        times=np.zeros([2000000,1],dtype=int)\n",
    "        count_eyetracker_entries = 0\n",
    "        \n",
    "        timediff=-1\n",
    "        trialindex=0\n",
    "        #logfile=data_dir+\"sub\"+subjects+\"/session_\"+str(i)+\"/Beh/sub\"+subjects+\"Log.txt\"\n",
    "        logfile=data_dir+subjects+\"Log.txt\"\n",
    "        print('logfile is',logfile)\n",
    "        if os.path.isfile(logfile):\n",
    "                    inFile = open(logfile)\n",
    "                    for s in inFile.readlines():\n",
    "                        s = s.replace('\\r','8')\n",
    "                        tokens = s[:-1].split('\\t')\n",
    "                        if len(tokens)>1:\n",
    "                            phase=-999\n",
    "                            latency = 0\n",
    "                            if tokens[2]==\"Trial Event\":\n",
    "                                phase_name=tokens[3][0:len(tokens[3])-1]\n",
    "                                #remove _started or _ended markers\n",
    "                                trimmed_phase_name=phase_name.replace('_ENDED','')\n",
    "                                trimmed_phase_name=phase_name.replace('_STARTED','')\n",
    "                                \n",
    "                                if phase_name==\"TRIAL_NAVIGATION_STARTED\":\n",
    "                                    startTrialTime[trialindex,0]=float(tokens[0])\n",
    "                                if phase_name==\"RECALL_PHASE_ENDED\":\n",
    "                                    itemindex=0\n",
    "                                    endTrialTime[trialindex,0]=float(tokens[0])\n",
    "                                    trialindex+=1\n",
    "                                \n",
    "                                    \n",
    "#                             if tokens[2]==\"EYETRACKER_LATENCY\": #out tobii eyetracker doesnt have latency probs take out\n",
    "#                                 latency = int(tokens[3][0:len(tokens[3])-1])\n",
    "#                                 if latency > 100000:\n",
    "#                                     latency = 0\n",
    "#                                 else:\n",
    "#                                     latency = latency / 1000\n",
    "# #                                     print \"latency is: \" + str(latency)\n",
    "\n",
    "                            if tokens[2]==\"EYETRACKER_DISPLAY_POINT\":\n",
    "                                count_eyetracker_entries += 1\n",
    "                                if prev_timestamp == int(tokens[5]):\n",
    "                                    continue\n",
    "                                else:\n",
    "                                    posX[unique_samples,0]= float(tokens[3])*resX\n",
    "                                    posY[unique_samples,0] = float (tokens[4])*resY\n",
    "                                    eyetracker_timestamp[unique_samples,0] = int(tokens[5])\n",
    "                                    prev_timestamp = int(tokens[5]) #eyetracker timestamp\n",
    "                                    timestamp=int(tokens[0]) #game timestamp\n",
    "                                    times[unique_samples,0]=timestamp #- latency\n",
    "                                    unique_samples+=1\n",
    "\n",
    "        #print(sum(diff(eyetracker_timestamp)==0))\n",
    "        print(count_eyetracker_entries)\n",
    "        \n",
    "        for i in range(5,unique_samples-6):\n",
    "            velocity[i,0]=calculate_vel(posX,posY,i,unique_samples,times)\n",
    "        \n",
    "        #filter out saccade samples that cross the threshold velocity\n",
    "        total=0\n",
    "        mindistance=100\n",
    "        current_dist=100\n",
    "        prev_index=-1\n",
    "        cleanVel = velocity[velocity != 0] #only want times when eyes moving\n",
    "        \n",
    "        print(\"orig thresh: \" + str(np.std(velocity)))\n",
    "        print(\"threshold velocity:\" + str(np.std(cleanVel)))\n",
    "        thresh=np.std(cleanVel)\n",
    "        [sacc_count,start_times_sacc,end_times_sacc] = calculate_saccades(velocity,thresh,unique_samples,times)\n",
    "\n",
    "        print(start_times_sacc.shape) #wait why are there still some zeros in here??\n",
    "        print(np.trim_zeros(start_times_sacc).shape) \n",
    "        start_times=np.trim_zeros(start_times_sacc)\n",
    "        end_times=np.trim_zeros(end_times_sacc)\n",
    "        print(start_times.shape)\n",
    "  \n",
    "        print(\"saccade count: \" + str(sacc_count))\n",
    "        subj_sacc_count+=sacc_count\n",
    "        \n",
    "        pop_sacc_start_times=np.concatenate((pop_sacc_start_times,start_times),axis=None)\n",
    "        pop_sacc_end_times=np.concatenate((pop_sacc_end_times,end_times),axis=None)\n",
    "    subj_saccade_total[subj_index,0]=subj_sacc_count\n",
    "    \n",
    "    "
   ]
  },
  {
   "cell_type": "code",
   "execution_count": 34,
   "metadata": {},
   "outputs": [
    {
     "name": "stdout",
     "output_type": "stream",
     "text": [
      "(28233,)\n",
      "28232\n",
      "28232\n"
     ]
    }
   ],
   "source": [
    "print(np.shape(np.unique(eyetracker_timestamp)))\n",
    "print(np.sum(eyetracker_timestamp>0))\n",
    "\n",
    "print(unique_samples)"
   ]
  },
  {
   "cell_type": "markdown",
   "metadata": {},
   "source": [
    "# Next get saccades by behavioral task phase\n",
    "### get saccade location relative to monitor display\n",
    "### to do: also get virtual location (task)"
   ]
  },
  {
   "cell_type": "code",
   "execution_count": 35,
   "metadata": {},
   "outputs": [],
   "source": [
    "phase_name_dict={1:'INSTRUCTION_VIDEO', 2:'HOMEBASE_TRANSPORT', 3:'TRIAL_NAVIGATION',4:'PLAYER_CHEST_ROTATION',\n",
    "            5:'TOWER_TRANSPORT',6:'DISTRACTOR_GAME',7:'RECALL_PHASE',8:'RECALL_CHOICE',\n",
    "            9:'FEEDBACK',10:'SCORESCREEN'}\n",
    "\n",
    "phase_dict={'INSTRUCTION_VIDEO': 1,'HOMEBASE_TRANSPORT': 2,'TRIAL_NAVIGATION': 3, 'PLAYER_CHEST_ROTATION': 4,\n",
    "            'TOWER_TRANSPORT': 5, 'DISTRACTOR_GAME': 6, 'RECALL_PHASE': 7, 'RECALL_CHOICE': 8,\n",
    "            'FEEDBACK': 9, 'SCORESCREEN': 10, 'BLOCKSCREEN': 11}"
   ]
  },
  {
   "cell_type": "code",
   "execution_count": 36,
   "metadata": {},
   "outputs": [
    {
     "name": "stdout",
     "output_type": "stream",
     "text": [
      "total sessions: 0 for Uma_regth1\n",
      "/home1/melina.tsitsiklis/eyetracking/behavioral/Uma_regth1Log.txt\n",
      "starting new trial\n",
      "adding 1 into total count for INSTRUCTION_VIDEO\n",
      "adding 1 into total count for PLAYER_CHEST_ROTATION\n",
      "adding 2 into total count for TRIAL_NAVIGATION\n",
      "adding 8 into total count for TOWER_TRANSPORT\n",
      "adding 1 into total count for DISTRACTOR_GAME\n",
      "adding 22 into total count for RECALL_CHOICE\n",
      "adding 22 into total count for RECALL_PHASE\n",
      "adding 8 into total count for SCORESCREEN\n",
      "adding 17 into total count for FEEDBACK\n",
      "adding 4 into total count for HOMEBASE_TRANSPORT\n",
      "adding 1 into total count for PLAYER_CHEST_ROTATION\n",
      "adding 6 into total count for TRIAL_NAVIGATION\n",
      "adding 7 into total count for DISTRACTOR_GAME\n",
      "adding 2 into total count for RECALL_CHOICE\n",
      "adding 8 into total count for RECALL_PHASE\n",
      "adding 8 into total count for FEEDBACK\n",
      "adding 7 into total count for TRIAL_NAVIGATION\n",
      "adding 9 into total count for TOWER_TRANSPORT\n",
      "adding 1 into total count for DISTRACTOR_GAME\n",
      "adding 25 into total count for RECALL_CHOICE\n",
      "adding 26 into total count for RECALL_PHASE\n",
      "adding 2 into total count for SCORESCREEN\n",
      "adding 2 into total count for FEEDBACK\n",
      "adding 1 into total count for HOMEBASE_TRANSPORT\n",
      "adding 1 into total count for TRIAL_NAVIGATION\n",
      "adding 1 into total count for TOWER_TRANSPORT\n",
      "adding 10 into total count for DISTRACTOR_GAME\n",
      "adding 9 into total count for RECALL_CHOICE\n",
      "adding 9 into total count for RECALL_PHASE\n",
      "adding 3 into total count for SCORESCREEN\n",
      "adding 8 into total count for FEEDBACK\n",
      "adding 5 into total count for DISTRACTOR_GAME\n",
      "adding 1 into total count for RECALL_CHOICE\n",
      "adding 1 into total count for RECALL_PHASE\n",
      "adding 2 into total count for PLAYER_CHEST_ROTATION\n",
      "adding 10 into total count for TRIAL_NAVIGATION\n",
      "adding 8 into total count for TOWER_TRANSPORT\n",
      "adding 3 into total count for DISTRACTOR_GAME\n",
      "adding 12 into total count for RECALL_CHOICE\n",
      "adding 14 into total count for RECALL_PHASE\n",
      "adding 2 into total count for FEEDBACK\n",
      "adding 4 into total count for TRIAL_NAVIGATION\n",
      "adding 2 into total count for DISTRACTOR_GAME\n",
      "adding 26 into total count for RECALL_CHOICE\n",
      "adding 28 into total count for RECALL_PHASE\n",
      "adding 7 into total count for FEEDBACK\n",
      "adding 25 into total count for TRIAL_NAVIGATION\n",
      "adding 4 into total count for TOWER_TRANSPORT\n",
      "adding 13 into total count for RECALL_CHOICE\n",
      "adding 13 into total count for RECALL_PHASE\n",
      "adding 1 into total count for SCORESCREEN\n",
      "adding 1 into total count for FEEDBACK\n",
      "adding 6 into total count for TRIAL_NAVIGATION\n",
      "adding 2 into total count for DISTRACTOR_GAME\n",
      "adding 27 into total count for RECALL_CHOICE\n",
      "adding 27 into total count for RECALL_PHASE\n",
      "adding 1 into total count for TRIAL_NAVIGATION\n",
      "adding 6 into total count for TOWER_TRANSPORT\n",
      "adding 3 into total count for DISTRACTOR_GAME\n",
      "adding 11 into total count for RECALL_CHOICE\n",
      "adding 11 into total count for RECALL_PHASE\n",
      "adding 13 into total count for FEEDBACK\n",
      "adding 13 into total count for TRIAL_NAVIGATION\n",
      "adding 23 into total count for DISTRACTOR_GAME\n",
      "adding 3 into total count for RECALL_CHOICE\n",
      "adding 5 into total count for RECALL_PHASE\n",
      "adding 2 into total count for PLAYER_CHEST_ROTATION\n",
      "adding 18 into total count for TRIAL_NAVIGATION\n",
      "adding 5 into total count for TOWER_TRANSPORT\n",
      "adding 15 into total count for DISTRACTOR_GAME\n"
     ]
    }
   ],
   "source": [
    "data_dir = \"/home1/melina.tsitsiklis/eyetracking/behavioral/\" #\"behavioral/\"\n",
    "#data_dir = \"behavioral/\"\n",
    "subj_index=-1\n",
    "subjects_id = [\"Uma_regth1\"] #[\"Melina\"]\n",
    "               #,\"050918\",\"120918\"]\n",
    "\n",
    "#cross-population tallies\n",
    "\n",
    "display=np.zeros([150000,22],dtype=float)\n",
    "virtual=np.zeros([150000,22],dtype=float)\n",
    "\n",
    "phase_saccade_count = np.zeros([11,1],dtype=int)\n",
    "phase_times = np.zeros([11,2],dtype=int)\n",
    "ignore_phase={'RECALL_SPECIAL','SHOWING_INSTRUCTIONS','SPHINX_EVENT','TASK_PAUSED'}\n",
    "\n",
    "currIndex=0\n",
    "Index=0\n",
    "\n",
    "v_index=0\n",
    "trial_began=False\n",
    "phase_index=0\n",
    "\n",
    "for subjects in subjects_id:\n",
    "    total_sess=get_total_sess_count(subjects)\n",
    "    print(\"total sessions: \" + str(total_sess-1) + \" for \" + str(subjects))\n",
    "    subj_samples=0\n",
    "    subj_sacc_count=0\n",
    "    prevLength=0\n",
    "    #update the subj_index\n",
    "    subj_index+=1\n",
    "    \n",
    "    for i in target_sessions:\n",
    "        starting_ts=0\n",
    "        ending_ts=0\n",
    "        sess_id=i\n",
    "        logfile=data_dir+subjects+\"Log.txt\"\n",
    "        #logfile=data_dir+\"sub\"+subjects+\"/session_\"+str(i)+\"/Beh/sub\"+subjects+\"Log.txt\"\n",
    "        print(logfile)\n",
    "        print(\"starting new trial\")\n",
    "        \n",
    "        if os.path.isfile(logfile):\n",
    "                    inFile = open(logfile)\n",
    "                    for s in inFile.readlines():\n",
    "                        s = s.replace('\\r','8')\n",
    "                        tokens = s[:-1].split('\\t')\n",
    "                        if len(tokens)>1:\n",
    "                            phase=-999\n",
    "                            latency = 0\n",
    "                            if currIndex<pop_sacc_start_times.shape[0]:\n",
    "                                if trial_began and int(tokens[0])>=pop_sacc_start_times[currIndex] and int(tokens[0]) <=pop_sacc_end_times[currIndex]:\n",
    "                                    if tokens[2]==\"EYETRACKER_DISPLAY_POINT\":\n",
    "                                        display[Index,(phase_index-1)*2]=float(tokens[3])\n",
    "                                        display[Index,((phase_index-1)*2)+1]=float(tokens[4])\n",
    "                                        Index+=1\n",
    "                                    \n",
    "#                                     if tokens[2]==\"EYETRACKER_VIRTUAL_POINT\":\n",
    "#                                         #print(\"ADDED VIRTUAL LEFT POINT\")\n",
    "#                                         left_virtual[left_v_index,(phase_index-1)*2]=float(tokens[3])\n",
    "#                                         left_virtual[left_v_index,((phase_index-1)*2)+1]=float(tokens[5])\n",
    "#                                         left_v_index+=1\n",
    "                                    \n",
    "                                if int(tokens[0]) >= pop_sacc_end_times[currIndex]:\n",
    "                                    diff=Index-prevLength\n",
    "                                    prevLength=Index\n",
    "    #                                 print(\"updated currindex\")\n",
    "                                    currIndex+=1\n",
    "                                \n",
    "                                \n",
    "                            if tokens[2]==\"Trial Event\":\n",
    "                                if tokens[3]==\"SHOWING_INSTRUCTIONS\":\n",
    "                                    if not trial_began:\n",
    "                                        trial_began=True\n",
    "                                phase_name=tokens[3][0:len(tokens[3])]\n",
    "#                                 print(\"og \" + str(phase_name))\n",
    "                                phase_index=0\n",
    "                                if phase_name not in ignore_phase:\n",
    "                                    phase_index=return_phase_index(phase_name, phase_dict)\n",
    "                                    if(\"STARTED\" in phase_name):\n",
    "#                                         print(\"starting \" +str(phase_name))\n",
    "                                        phase_times[phase_index-1,0]=int(tokens[0])\n",
    "                                    elif(\"ENDED\" in phase_name):\n",
    "#                                         print(\"ending \" + str(phase_name))\n",
    "                                        phase_times[phase_index-1,1]=int(tokens[0])\n",
    "# #                                         print(\"between \" + str(phase_times[phase_index-1,0]) + \" and \" + str(phase_times[phase_index-1,1]))\n",
    "                                        phase_saccs=pop_sacc_start_times[np.logical_and(pop_sacc_start_times>=phase_times[phase_index-1,0], pop_sacc_start_times <= phase_times[phase_index-1,1])].shape[0]\n",
    "                                        if phase_saccs > 0:\n",
    "                                            print(\"adding \" + str(phase_saccs) + \" into total count for \" + str(phase_name_dict[phase_index]))\n",
    "                                            phase_saccade_count[phase_index-1,0]+=phase_saccs\n"
   ]
  },
  {
   "cell_type": "markdown",
   "metadata": {},
   "source": [
    "### plot number of saccades by task phase"
   ]
  },
  {
   "cell_type": "code",
   "execution_count": 37,
   "metadata": {},
   "outputs": [
    {
     "name": "stdout",
     "output_type": "stream",
     "text": [
      "[2 4 5 6 7 8]\n",
      "TRIAL_NAVIGATION\n",
      "TOWER_TRANSPORT\n",
      "DISTRACTOR_GAME\n",
      "RECALL_PHASE\n",
      "RECALL_CHOICE\n",
      "FEEDBACK\n"
     ]
    },
    {
     "data": {
      "image/png": "[encoded data removed]",
      "text/plain": [
       "<Figure size 432x288 with 1 Axes>"
      ]
     },
     "metadata": {
      "needs_background": "light"
     },
     "output_type": "display_data"
    }
   ],
   "source": [
    "idx=phase_saccade_count[:,0]>40\n",
    "chosen_idx=np.where(idx)[0]\n",
    "print(chosen_idx)\n",
    "\n",
    "fig,ax=plt.subplots()\n",
    "ax.bar(np.arange(0,len(chosen_idx),1),phase_saccade_count[chosen_idx,0])\n",
    "ax.xaxis.set_ticks(np.arange(0,len(chosen_idx),1))\n",
    "\n",
    "label_names=np.empty([len(chosen_idx),1],dtype='S40')\n",
    "for i in range(0,len(chosen_idx)):\n",
    "    print(phase_name_dict[chosen_idx[i]+1])\n",
    "    label_names[i,0]=phase_name_dict[chosen_idx[i]+1]\n",
    "    \n",
    "ax.xaxis.set_ticklabels(label_names)\n",
    "plt.xticks(rotation=90)\n",
    "plt.show()"
   ]
  },
  {
   "cell_type": "code",
   "execution_count": 38,
   "metadata": {},
   "outputs": [
    {
     "name": "stdout",
     "output_type": "stream",
     "text": [
      "[[  1]\n",
      " [  5]\n",
      " [ 93]\n",
      " [  6]\n",
      " [ 41]\n",
      " [ 72]\n",
      " [164]\n",
      " [151]\n",
      " [ 58]\n",
      " [ 14]\n",
      " [  0]]\n"
     ]
    }
   ],
   "source": [
    "print(phase_saccade_count)"
   ]
  },
  {
   "cell_type": "markdown",
   "metadata": {},
   "source": [
    "### plot navigation phase display points"
   ]
  },
  {
   "cell_type": "code",
   "execution_count": 41,
   "metadata": {},
   "outputs": [
    {
     "data": {
      "image/png": "[encoded data removed]",
      "text/plain": [
       "<Figure size 432x288 with 1 Axes>"
      ]
     },
     "metadata": {
      "needs_background": "light"
     },
     "output_type": "display_data"
    }
   ],
   "source": [
    "nav_idx = phase_dict['TRIAL_NAVIGATION'] #['RECALL_PHASE'] #\n",
    "#get index of eye locs during navigation, and get the display position for each one\n",
    "plt.scatter(np.trim_zeros(display[:,(nav_idx*2)]),np.trim_zeros(display[:,(nav_idx*2)+1]),label=str(phase_name_dict[nav_idx]))\n",
    "\n",
    "# for target_idx in np.arange(1,11):\n",
    "#     plt.scatter(np.trim_zeros(display[:,(target_idx*2)]),np.trim_zeros(display[:,(target_idx*2)+1]),label=str(phase_name_dict[target_idx]))\n",
    "\n",
    "\n",
    "plt.xlim(0,1)\n",
    "plt.ylim(0,1)\n",
    "plt.title(\"Display points by phase\")\n",
    "plt.legend(loc=0)\n",
    "plt.show()\n",
    "\n"
   ]
  },
  {
   "cell_type": "code",
   "execution_count": 30,
   "metadata": {},
   "outputs": [
    {
     "name": "stdout",
     "output_type": "stream",
     "text": [
      "(18355,)\n"
     ]
    }
   ],
   "source": [
    "print(np.shape(np.trim_zeros(display[:,(nav_idx*2)])))"
   ]
  },
  {
   "cell_type": "code",
   "execution_count": 43,
   "metadata": {},
   "outputs": [
    {
     "name": "stdout",
     "output_type": "stream",
     "text": [
      "1556044663405\n"
     ]
    }
   ],
   "source": []
  }
 ],
 "metadata": {
  "kernelspec": {
   "display_name": "py3_env",
   "language": "python",
   "name": "py3_env"
  },
  "language_info": {
   "codemirror_mode": {
    "name": "ipython",
    "version": 3
   },
   "file_extension": ".py",
   "mimetype": "text/x-python",
   "name": "python",
   "nbconvert_exporter": "python",
   "pygments_lexer": "ipython3",
   "version": "3.6.8"
  }
 },
 "nbformat": 4,
 "nbformat_minor": 2
}
